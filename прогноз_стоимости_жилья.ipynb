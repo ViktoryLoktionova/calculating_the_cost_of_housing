{
  "nbformat": 4,
  "nbformat_minor": 0,
  "metadata": {
    "colab": {
      "name": "прогноз_стоимости_жилья.ipynb",
      "provenance": [],
      "authorship_tag": "ABX9TyNdDarSwp0f5NkkWbnF64jv",
      "include_colab_link": true
    },
    "kernelspec": {
      "name": "python3",
      "display_name": "Python 3"
    },
    "language_info": {
      "name": "python"
    },
    "accelerator": "GPU"
  },
  "cells": [
    {
      "cell_type": "markdown",
      "metadata": {
        "id": "view-in-github",
        "colab_type": "text"
      },
      "source": [
        "<a href=\"https://colab.research.google.com/github/ViktoryLoktionova/ViktoryLoktionova/blob/main/%D0%BF%D1%80%D0%BE%D0%B3%D0%BD%D0%BE%D0%B7_%D1%81%D1%82%D0%BE%D0%B8%D0%BC%D0%BE%D1%81%D1%82%D0%B8_%D0%B6%D0%B8%D0%BB%D1%8C%D1%8F.ipynb\" target=\"_parent\"><img src=\"https://colab.research.google.com/assets/colab-badge.svg\" alt=\"Open In Colab\"/></a>"
      ]
    },
    {
      "cell_type": "markdown",
      "metadata": {
        "id": "FzxHqkP1Q4vf"
      },
      "source": [
        ""
      ]
    },
    {
      "cell_type": "code",
      "metadata": {
        "id": "9_vkdNzGROJg"
      },
      "source": [
        "import numpy as np\n",
        "from keras.datasets import boston_housing\n",
        "from keras.models import Sequential\n",
        "from keras.layers import Dense"
      ],
      "execution_count": 3,
      "outputs": []
    },
    {
      "cell_type": "markdown",
      "metadata": {
        "id": "UumesiE6YR78"
      },
      "source": [
        "Загрузка набора данных"
      ]
    },
    {
      "cell_type": "code",
      "metadata": {
        "colab": {
          "base_uri": "https://localhost:8080/"
        },
        "id": "s-TDlbhRYUUe",
        "outputId": "8157f537-f419-47ce-8a44-c2f50ba79488"
      },
      "source": [
        "(x_train, y_train), (x_test, y_test) = boston_housing.load_data()"
      ],
      "execution_count": 4,
      "outputs": [
        {
          "output_type": "stream",
          "name": "stdout",
          "text": [
            "Downloading data from https://storage.googleapis.com/tensorflow/tf-keras-datasets/boston_housing.npz\n",
            "57344/57026 [==============================] - 0s 0us/step\n",
            "65536/57026 [==================================] - 0s 0us/step\n"
          ]
        }
      ]
    },
    {
      "cell_type": "markdown",
      "metadata": {
        "id": "19H6gyVtYk1V"
      },
      "source": [
        "Нормализация данных"
      ]
    },
    {
      "cell_type": "code",
      "metadata": {
        "id": "rOwAN_H1Ysby"
      },
      "source": [
        "mean = x_train.mean(axis=0) #среднее значение\n",
        "std = x_train.std(axis=0)#стандартное отклонение\n",
        "x_train-=mean\n",
        "x_train/=std\n",
        "x_test-=mean\n",
        "x_test/=std\n",
        "\n"
      ],
      "execution_count": 5,
      "outputs": []
    },
    {
      "cell_type": "markdown",
      "metadata": {
        "id": "NC2jm5hFZvXq"
      },
      "source": [
        "Создаем нейронную сеть\n",
        "Выходной слой с одним линейным нейроном - для задачи регрессии функция активации не используется.\n",
        "\n",
        "Функция ошибки - среднеквадратичное отклонение. Метрика - среднее абсолютное отклонение."
      ]
    },
    {
      "cell_type": "code",
      "metadata": {
        "id": "Agj75o6lZ3xZ"
      },
      "source": [
        "model = Sequential()\n",
        "model.add(Dense(128, activation='relu', input_shape=(x_train.shape[1],)))\n",
        "model.add(Dense(1))\n",
        "model.compile(optimizer='adam', loss='mse', metrics=['mae'])"
      ],
      "execution_count": 6,
      "outputs": []
    },
    {
      "cell_type": "markdown",
      "metadata": {
        "id": "Xgcy-bTZaZ11"
      },
      "source": [
        "Обучаем нейросеть"
      ]
    },
    {
      "cell_type": "code",
      "metadata": {
        "colab": {
          "base_uri": "https://localhost:8080/"
        },
        "id": "Qn1DirU3aerr",
        "outputId": "161df4b0-6e1d-4ba3-a1ff-9d873a93c7f4"
      },
      "source": [
        "model.fit(x_train, y_train, epochs=100, batch_size=1, verbose=2)"
      ],
      "execution_count": 9,
      "outputs": [
        {
          "output_type": "stream",
          "name": "stdout",
          "text": [
            "Epoch 1/100\n",
            "404/404 - 1s - loss: 2.5575 - mae: 1.1652\n",
            "Epoch 2/100\n",
            "404/404 - 1s - loss: 2.4643 - mae: 1.1406\n",
            "Epoch 3/100\n",
            "404/404 - 1s - loss: 2.5733 - mae: 1.1534\n",
            "Epoch 4/100\n",
            "404/404 - 1s - loss: 2.3887 - mae: 1.1314\n",
            "Epoch 5/100\n",
            "404/404 - 1s - loss: 2.4659 - mae: 1.1609\n",
            "Epoch 6/100\n",
            "404/404 - 1s - loss: 2.5471 - mae: 1.1517\n",
            "Epoch 7/100\n",
            "404/404 - 1s - loss: 2.4351 - mae: 1.1331\n",
            "Epoch 8/100\n",
            "404/404 - 1s - loss: 2.5256 - mae: 1.1480\n",
            "Epoch 9/100\n",
            "404/404 - 1s - loss: 2.3934 - mae: 1.1121\n",
            "Epoch 10/100\n",
            "404/404 - 1s - loss: 2.3493 - mae: 1.1092\n",
            "Epoch 11/100\n",
            "404/404 - 1s - loss: 2.3585 - mae: 1.1247\n",
            "Epoch 12/100\n",
            "404/404 - 1s - loss: 2.3318 - mae: 1.1026\n",
            "Epoch 13/100\n",
            "404/404 - 1s - loss: 2.3423 - mae: 1.1068\n",
            "Epoch 14/100\n",
            "404/404 - 1s - loss: 2.4607 - mae: 1.1467\n",
            "Epoch 15/100\n",
            "404/404 - 1s - loss: 2.4865 - mae: 1.1242\n",
            "Epoch 16/100\n",
            "404/404 - 1s - loss: 2.3346 - mae: 1.1155\n",
            "Epoch 17/100\n",
            "404/404 - 1s - loss: 2.3833 - mae: 1.1176\n",
            "Epoch 18/100\n",
            "404/404 - 1s - loss: 2.3405 - mae: 1.1088\n",
            "Epoch 19/100\n",
            "404/404 - 1s - loss: 2.4250 - mae: 1.1275\n",
            "Epoch 20/100\n",
            "404/404 - 1s - loss: 2.2777 - mae: 1.0871\n",
            "Epoch 21/100\n",
            "404/404 - 1s - loss: 2.3377 - mae: 1.1052\n",
            "Epoch 22/100\n",
            "404/404 - 1s - loss: 2.3434 - mae: 1.1230\n",
            "Epoch 23/100\n",
            "404/404 - 1s - loss: 2.4589 - mae: 1.1326\n",
            "Epoch 24/100\n",
            "404/404 - 1s - loss: 2.2627 - mae: 1.0944\n",
            "Epoch 25/100\n",
            "404/404 - 1s - loss: 2.2648 - mae: 1.0881\n",
            "Epoch 26/100\n",
            "404/404 - 1s - loss: 2.3212 - mae: 1.1269\n",
            "Epoch 27/100\n",
            "404/404 - 1s - loss: 2.3033 - mae: 1.1061\n",
            "Epoch 28/100\n",
            "404/404 - 1s - loss: 2.3625 - mae: 1.1522\n",
            "Epoch 29/100\n",
            "404/404 - 1s - loss: 2.2382 - mae: 1.0739\n",
            "Epoch 30/100\n",
            "404/404 - 1s - loss: 2.2501 - mae: 1.0776\n",
            "Epoch 31/100\n",
            "404/404 - 1s - loss: 2.1023 - mae: 1.0472\n",
            "Epoch 32/100\n",
            "404/404 - 1s - loss: 2.2717 - mae: 1.0747\n",
            "Epoch 33/100\n",
            "404/404 - 1s - loss: 2.3724 - mae: 1.1231\n",
            "Epoch 34/100\n",
            "404/404 - 1s - loss: 2.2256 - mae: 1.1227\n",
            "Epoch 35/100\n",
            "404/404 - 1s - loss: 2.2435 - mae: 1.0692\n",
            "Epoch 36/100\n",
            "404/404 - 1s - loss: 2.1645 - mae: 1.0764\n",
            "Epoch 37/100\n",
            "404/404 - 1s - loss: 2.1815 - mae: 1.0718\n",
            "Epoch 38/100\n",
            "404/404 - 1s - loss: 2.1890 - mae: 1.0611\n",
            "Epoch 39/100\n",
            "404/404 - 1s - loss: 2.2994 - mae: 1.0919\n",
            "Epoch 40/100\n",
            "404/404 - 1s - loss: 2.1219 - mae: 1.0620\n",
            "Epoch 41/100\n",
            "404/404 - 1s - loss: 2.0194 - mae: 1.0160\n",
            "Epoch 42/100\n",
            "404/404 - 1s - loss: 2.1900 - mae: 1.0691\n",
            "Epoch 43/100\n",
            "404/404 - 1s - loss: 2.0773 - mae: 1.0302\n",
            "Epoch 44/100\n",
            "404/404 - 1s - loss: 2.1893 - mae: 1.0813\n",
            "Epoch 45/100\n",
            "404/404 - 1s - loss: 2.0521 - mae: 1.0574\n",
            "Epoch 46/100\n",
            "404/404 - 1s - loss: 2.1322 - mae: 1.0436\n",
            "Epoch 47/100\n",
            "404/404 - 1s - loss: 2.1342 - mae: 1.0750\n",
            "Epoch 48/100\n",
            "404/404 - 1s - loss: 2.3197 - mae: 1.1493\n",
            "Epoch 49/100\n",
            "404/404 - 1s - loss: 2.1656 - mae: 1.0979\n",
            "Epoch 50/100\n",
            "404/404 - 1s - loss: 2.0188 - mae: 1.0137\n",
            "Epoch 51/100\n",
            "404/404 - 1s - loss: 2.1493 - mae: 1.0504\n",
            "Epoch 52/100\n",
            "404/404 - 1s - loss: 2.0606 - mae: 1.0477\n",
            "Epoch 53/100\n",
            "404/404 - 1s - loss: 2.2928 - mae: 1.0848\n",
            "Epoch 54/100\n",
            "404/404 - 1s - loss: 2.0918 - mae: 1.0372\n",
            "Epoch 55/100\n",
            "404/404 - 1s - loss: 2.0620 - mae: 1.0613\n",
            "Epoch 56/100\n",
            "404/404 - 1s - loss: 1.9845 - mae: 1.0375\n",
            "Epoch 57/100\n",
            "404/404 - 1s - loss: 2.0845 - mae: 1.0425\n",
            "Epoch 58/100\n",
            "404/404 - 1s - loss: 2.0668 - mae: 1.0298\n",
            "Epoch 59/100\n",
            "404/404 - 1s - loss: 2.0537 - mae: 1.0543\n",
            "Epoch 60/100\n",
            "404/404 - 1s - loss: 2.0518 - mae: 1.0483\n",
            "Epoch 61/100\n",
            "404/404 - 1s - loss: 1.9646 - mae: 1.0032\n",
            "Epoch 62/100\n",
            "404/404 - 1s - loss: 2.0123 - mae: 1.0595\n",
            "Epoch 63/100\n",
            "404/404 - 1s - loss: 1.9705 - mae: 1.0207\n",
            "Epoch 64/100\n",
            "404/404 - 1s - loss: 2.2339 - mae: 1.1169\n",
            "Epoch 65/100\n",
            "404/404 - 1s - loss: 2.0618 - mae: 1.0525\n",
            "Epoch 66/100\n",
            "404/404 - 1s - loss: 2.0454 - mae: 1.0687\n",
            "Epoch 67/100\n",
            "404/404 - 1s - loss: 1.9626 - mae: 1.0153\n",
            "Epoch 68/100\n",
            "404/404 - 1s - loss: 1.9951 - mae: 1.0211\n",
            "Epoch 69/100\n",
            "404/404 - 1s - loss: 1.9355 - mae: 1.0047\n",
            "Epoch 70/100\n",
            "404/404 - 1s - loss: 1.9119 - mae: 1.0186\n",
            "Epoch 71/100\n",
            "404/404 - 1s - loss: 1.8946 - mae: 0.9970\n",
            "Epoch 72/100\n",
            "404/404 - 1s - loss: 2.0366 - mae: 1.0346\n",
            "Epoch 73/100\n",
            "404/404 - 1s - loss: 1.9416 - mae: 1.0262\n",
            "Epoch 74/100\n",
            "404/404 - 1s - loss: 1.9179 - mae: 1.0361\n",
            "Epoch 75/100\n",
            "404/404 - 1s - loss: 1.9279 - mae: 1.0067\n",
            "Epoch 76/100\n",
            "404/404 - 1s - loss: 1.9618 - mae: 1.0352\n",
            "Epoch 77/100\n",
            "404/404 - 1s - loss: 1.9170 - mae: 1.0015\n",
            "Epoch 78/100\n",
            "404/404 - 1s - loss: 1.9267 - mae: 0.9952\n",
            "Epoch 79/100\n",
            "404/404 - 1s - loss: 2.0367 - mae: 1.0680\n",
            "Epoch 80/100\n",
            "404/404 - 1s - loss: 1.8791 - mae: 1.0074\n",
            "Epoch 81/100\n",
            "404/404 - 1s - loss: 1.7337 - mae: 0.9551\n",
            "Epoch 82/100\n",
            "404/404 - 1s - loss: 1.9681 - mae: 1.0173\n",
            "Epoch 83/100\n",
            "404/404 - 1s - loss: 1.8826 - mae: 0.9771\n",
            "Epoch 84/100\n",
            "404/404 - 1s - loss: 1.8387 - mae: 1.0001\n",
            "Epoch 85/100\n",
            "404/404 - 1s - loss: 1.8346 - mae: 0.9974\n",
            "Epoch 86/100\n",
            "404/404 - 1s - loss: 1.9058 - mae: 1.0228\n",
            "Epoch 87/100\n",
            "404/404 - 1s - loss: 1.9083 - mae: 1.0109\n",
            "Epoch 88/100\n",
            "404/404 - 1s - loss: 1.8013 - mae: 0.9668\n",
            "Epoch 89/100\n",
            "404/404 - 1s - loss: 1.7885 - mae: 0.9844\n",
            "Epoch 90/100\n",
            "404/404 - 1s - loss: 1.8661 - mae: 1.0296\n",
            "Epoch 91/100\n",
            "404/404 - 1s - loss: 1.7878 - mae: 0.9713\n",
            "Epoch 92/100\n",
            "404/404 - 1s - loss: 1.8310 - mae: 1.0099\n",
            "Epoch 93/100\n",
            "404/404 - 1s - loss: 1.7028 - mae: 0.9645\n",
            "Epoch 94/100\n",
            "404/404 - 1s - loss: 1.8677 - mae: 1.0038\n",
            "Epoch 95/100\n",
            "404/404 - 1s - loss: 1.7512 - mae: 0.9795\n",
            "Epoch 96/100\n",
            "404/404 - 1s - loss: 1.7865 - mae: 0.9645\n",
            "Epoch 97/100\n",
            "404/404 - 1s - loss: 1.7608 - mae: 0.9731\n",
            "Epoch 98/100\n",
            "404/404 - 1s - loss: 1.8581 - mae: 0.9966\n",
            "Epoch 99/100\n",
            "404/404 - 1s - loss: 1.6883 - mae: 0.9314\n",
            "Epoch 100/100\n",
            "404/404 - 1s - loss: 1.8575 - mae: 1.0210\n"
          ]
        },
        {
          "output_type": "execute_result",
          "data": {
            "text/plain": [
              "<keras.callbacks.History at 0x7f0c900b3090>"
            ]
          },
          "metadata": {},
          "execution_count": 9
        }
      ]
    },
    {
      "cell_type": "markdown",
      "metadata": {
        "id": "_dIsmIR7b8rV"
      },
      "source": [
        "оценка точности работы сети"
      ]
    },
    {
      "cell_type": "code",
      "metadata": {
        "id": "jS4Gp_dEb_8y"
      },
      "source": [
        "mse,mae = model.evaluate(x_test, y_test, verbose=0)"
      ],
      "execution_count": 10,
      "outputs": []
    },
    {
      "cell_type": "code",
      "metadata": {
        "colab": {
          "base_uri": "https://localhost:8080/"
        },
        "id": "WFs7fBDacMo5",
        "outputId": "3c2e42d6-ef49-4285-c6f0-9277570ab3b5"
      },
      "source": [
        "print(\"Средняя абсолютная ошибка (тысяч долларов):\", mae)"
      ],
      "execution_count": 11,
      "outputs": [
        {
          "output_type": "stream",
          "name": "stdout",
          "text": [
            "Средняя абсолютная ошибка (тысяч долларов): 2.249995231628418\n"
          ]
        }
      ]
    },
    {
      "cell_type": "markdown",
      "metadata": {
        "id": "GO9fE8eNcTou"
      },
      "source": [
        "Использование сети для предсказания цен недвижимости"
      ]
    },
    {
      "cell_type": "code",
      "metadata": {
        "id": "lGEtiubQcYtk"
      },
      "source": [
        "pred = model.predict(x_test)\n"
      ],
      "execution_count": 12,
      "outputs": []
    },
    {
      "cell_type": "code",
      "metadata": {
        "colab": {
          "base_uri": "https://localhost:8080/"
        },
        "id": "8EYIufjMceRK",
        "outputId": "22851461-847a-4134-ea59-291087778e30"
      },
      "source": [
        "print(print(\"Предсказанная стоимость:\", pred[1][0], \", правильная стоимость:\", y_test[1]))"
      ],
      "execution_count": 13,
      "outputs": [
        {
          "output_type": "stream",
          "name": "stdout",
          "text": [
            "Предсказанная стоимость: 18.38111 , правильная стоимость: 18.8\n",
            "None\n"
          ]
        }
      ]
    },
    {
      "cell_type": "code",
      "metadata": {
        "colab": {
          "base_uri": "https://localhost:8080/"
        },
        "id": "5ujVSjutcuOd",
        "outputId": "7f1dcfb4-9e31-4300-da68-5bfb4d5927b1"
      },
      "source": [
        "print(print(\"Предсказанная стоимость:\", pred[50][0], \", правильная стоимость:\", y_test[50]))"
      ],
      "execution_count": 14,
      "outputs": [
        {
          "output_type": "stream",
          "name": "stdout",
          "text": [
            "Предсказанная стоимость: 34.366306 , правильная стоимость: 35.4\n",
            "None\n"
          ]
        }
      ]
    },
    {
      "cell_type": "code",
      "metadata": {
        "colab": {
          "base_uri": "https://localhost:8080/"
        },
        "id": "cCnN2M9ocxzd",
        "outputId": "48651948-2665-4315-e9e5-771beec87fcf"
      },
      "source": [
        "print(print(\"Предсказанная стоимость:\", pred[100][0], \", правильная стоимость:\", y_test[100]))"
      ],
      "execution_count": 15,
      "outputs": [
        {
          "output_type": "stream",
          "name": "stdout",
          "text": [
            "Предсказанная стоимость: 29.978006 , правильная стоимость: 26.7\n",
            "None\n"
          ]
        }
      ]
    },
    {
      "cell_type": "markdown",
      "metadata": {
        "id": "9I8S4NcecsVe"
      },
      "source": [
        ""
      ]
    }
  ]
}